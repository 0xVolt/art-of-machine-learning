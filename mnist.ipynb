{
 "cells": [
  {
   "cell_type": "markdown",
   "id": "aadd7f9a-32f2-452d-989c-039cc3fb2f28",
   "metadata": {},
   "source": [
    "# Supervised Learning with MNIST Data Set"
   ]
  },
  {
   "cell_type": "code",
   "execution_count": 7,
   "id": "a218d141-f615-4d18-b167-0e31fb766db2",
   "metadata": {},
   "outputs": [
    {
     "name": "stderr",
     "output_type": "stream",
     "text": [
      "/home/volt/miniconda3/lib/python3.10/site-packages/sklearn/datasets/_openml.py:1002: FutureWarning: The default value of `parser` will change from `'liac-arff'` to `'auto'` in 1.4. You can set `parser='auto'` to silence this warning. Therefore, an `ImportError` will be raised from 1.4 if the dataset is dense and pandas is not installed. Note that the pandas parser may return different data types. See the Notes Section in fetch_openml's API doc for details.\n",
      "  warn(\n"
     ]
    }
   ],
   "source": [
    "import numpy as np\n",
    "from sklearn.datasets import fetch_openml\n",
    "from sklearn.model_selection import train_test_split\n",
    "from sklearn.cluster import KMeans\n",
    "from sklearn.metrics import accuracy_score\n",
    "\n",
    "# Load MNIST dataset\n",
    "mnist = fetch_openml('mnist_784', version=1)\n",
    "X, y = mnist['data'], mnist['target']\n",
    "\n",
    "# Split the data into training and testing sets\n",
    "X_train, X_test, y_train, y_test = train_test_split(X, y, test_size=0.2, random_state=42)\n",
    "\n",
    "# Perform k-means clustering on the training set\n",
    "kmeans = KMeans(n_clusters=10, random_state=42)\n",
    "X_train_clusters = kmeans.fit_predict(X_train)\n",
    "\n",
    "# Assign cluster labels to each data point in the test set\n",
    "X_test_clusters = kmeans.predict(X_test)\n",
    "\n",
    "# Find the most frequent true label for each cluster in the training set\n",
    "cluster_labels = []\n",
    "for cluster in range(10):\n",
    "    cluster_indices = np.where(X_train_clusters == cluster)[0]\n",
    "    cluster_labels.append(np.argmax(np.bincount(y_train[cluster_indices].astype(int))))\n",
    "\n",
    "# Predict the labels for the test set using the most frequent label for each cluster\n",
    "y_pred = [cluster_labels[cluster] for cluster in X_test_clusters]\n",
    "\n",
    "# Calculate accuracy\n",
    "accuracy = accuracy_score(y_test.astype(int), y_pred)\n",
    "print(\"Accuracy with k-means stratification:\", accuracy)\n"
   ]
  },
  {
   "cell_type": "code",
   "execution_count": null,
   "id": "67af4803",
   "metadata": {},
   "outputs": [],
   "source": []
  }
 ],
 "metadata": {
  "kernelspec": {
   "display_name": "Python 3 (ipykernel)",
   "language": "python",
   "name": "python3"
  },
  "language_info": {
   "codemirror_mode": {
    "name": "ipython",
    "version": 3
   },
   "file_extension": ".py",
   "mimetype": "text/x-python",
   "name": "python",
   "nbconvert_exporter": "python",
   "pygments_lexer": "ipython3",
   "version": "3.10.10"
  }
 },
 "nbformat": 4,
 "nbformat_minor": 5
}
