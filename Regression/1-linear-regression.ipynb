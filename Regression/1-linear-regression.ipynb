{
 "cells": [
  {
   "attachments": {},
   "cell_type": "markdown",
   "metadata": {},
   "source": [
    "# Simple Linear Regression\n",
    "\n",
    "Here is a simple example of regression to get started. \n",
    "\n",
    "The entire idea of regression is to take continuous data and to find a best-fit line to that data. To to this, we create a *model* of our data and the way that we do that with simple linear regression is with a straight line. That's the reason this entire algorithm is based off the equation for a straight line, $y = mx + c$"
   ]
  },
  {
   "cell_type": "code",
   "execution_count": null,
   "metadata": {},
   "outputs": [],
   "source": []
  }
 ],
 "metadata": {
  "language_info": {
   "name": "python"
  },
  "orig_nbformat": 4
 },
 "nbformat": 4,
 "nbformat_minor": 2
}
