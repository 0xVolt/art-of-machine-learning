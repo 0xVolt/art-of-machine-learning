{
 "cells": [
  {
   "attachments": {},
   "cell_type": "markdown",
   "metadata": {},
   "source": [
    "# Simple Linear Regression\n",
    "\n",
    "Here is a simple example of regression to get started.\n",
    "\n",
    "The entire idea of regression is to take continuous data and to find a best-fit line to that data. To to this, we create a _model_ of our data and the way that we do that with simple linear regression is with a straight line. That's the reason this entire algorithm is based off the equation for a straight line, $y = mx + b$\n",
    "\n",
    "The whole time during regression is to figure out the right values for $m$ and $b$.\n",
    "\n",
    "You'll see regression pop up in stock price analysis primarily. This works ideally since all the features of a stock are continuous. In this example, we're building a model for simple linear regression to work on stock data.\n",
    "\n",
    "---\n"
   ]
  },
  {
   "attachments": {},
   "cell_type": "markdown",
   "metadata": {},
   "source": [
    "## Import libraries\n",
    "\n",
    "### Why Quandl?\n",
    "\n",
    "Quandl is a premier publisher of alternative data for institutional investors. A dedicated team of data scientists, quants and engineers combine uncompromising curation, high quality standards and experienced data science application to provide some of the most powerful data available today. Quandl also publishes free data, scraped from the web and delivered via Nasdaq Data Link’s industry-leading data delivery platform. For more information about Quandl, see [this page](data.nasdaq.com/publishers/qdl).\n"
   ]
  },
  {
   "cell_type": "code",
   "execution_count": 2,
   "metadata": {},
   "outputs": [],
   "source": [
    "import pandas as pd\n",
    "import quandl\n"
   ]
  },
  {
   "attachments": {},
   "cell_type": "markdown",
   "metadata": {},
   "source": [
    "Each dataset on the Nasdaq data link site has it's own code that allows you to access the dataset using the Quandl API. You could also copy the entire line of code required to import the dataset from it's page.\n"
   ]
  },
  {
   "cell_type": "code",
   "execution_count": 4,
   "metadata": {},
   "outputs": [],
   "source": [
    "df = quandl.get(\"FINRA/FNYX_GOOGL\")\n"
   ]
  },
  {
   "attachments": {},
   "cell_type": "markdown",
   "metadata": {},
   "source": [
    "Print out the dataframe.\n"
   ]
  },
  {
   "cell_type": "code",
   "execution_count": 6,
   "metadata": {},
   "outputs": [
    {
     "data": {
      "text/html": [
       "<div>\n",
       "<style scoped>\n",
       "    .dataframe tbody tr th:only-of-type {\n",
       "        vertical-align: middle;\n",
       "    }\n",
       "\n",
       "    .dataframe tbody tr th {\n",
       "        vertical-align: top;\n",
       "    }\n",
       "\n",
       "    .dataframe thead th {\n",
       "        text-align: right;\n",
       "    }\n",
       "</style>\n",
       "<table border=\"1\" class=\"dataframe\">\n",
       "  <thead>\n",
       "    <tr style=\"text-align: right;\">\n",
       "      <th></th>\n",
       "      <th>ShortVolume</th>\n",
       "      <th>ShortExemptVolume</th>\n",
       "      <th>TotalVolume</th>\n",
       "    </tr>\n",
       "    <tr>\n",
       "      <th>Date</th>\n",
       "      <th></th>\n",
       "      <th></th>\n",
       "      <th></th>\n",
       "    </tr>\n",
       "  </thead>\n",
       "  <tbody>\n",
       "    <tr>\n",
       "      <th>2014-04-03</th>\n",
       "      <td>88639.0</td>\n",
       "      <td>0.0</td>\n",
       "      <td>220457.0</td>\n",
       "    </tr>\n",
       "    <tr>\n",
       "      <th>2014-04-04</th>\n",
       "      <td>100488.0</td>\n",
       "      <td>0.0</td>\n",
       "      <td>266648.0</td>\n",
       "    </tr>\n",
       "    <tr>\n",
       "      <th>2014-04-07</th>\n",
       "      <td>83192.0</td>\n",
       "      <td>0.0</td>\n",
       "      <td>175611.0</td>\n",
       "    </tr>\n",
       "    <tr>\n",
       "      <th>2014-04-08</th>\n",
       "      <td>65126.0</td>\n",
       "      <td>0.0</td>\n",
       "      <td>209328.0</td>\n",
       "    </tr>\n",
       "    <tr>\n",
       "      <th>2014-04-09</th>\n",
       "      <td>50757.0</td>\n",
       "      <td>0.0</td>\n",
       "      <td>156089.0</td>\n",
       "    </tr>\n",
       "    <tr>\n",
       "      <th>...</th>\n",
       "      <td>...</td>\n",
       "      <td>...</td>\n",
       "      <td>...</td>\n",
       "    </tr>\n",
       "    <tr>\n",
       "      <th>2022-12-12</th>\n",
       "      <td>1054371.0</td>\n",
       "      <td>7751.0</td>\n",
       "      <td>1547158.0</td>\n",
       "    </tr>\n",
       "    <tr>\n",
       "      <th>2022-12-13</th>\n",
       "      <td>315726.0</td>\n",
       "      <td>10978.0</td>\n",
       "      <td>1148199.0</td>\n",
       "    </tr>\n",
       "    <tr>\n",
       "      <th>2022-12-14</th>\n",
       "      <td>240019.0</td>\n",
       "      <td>5607.0</td>\n",
       "      <td>947417.0</td>\n",
       "    </tr>\n",
       "    <tr>\n",
       "      <th>2022-12-15</th>\n",
       "      <td>2788514.0</td>\n",
       "      <td>3481.0</td>\n",
       "      <td>3299666.0</td>\n",
       "    </tr>\n",
       "    <tr>\n",
       "      <th>2022-12-16</th>\n",
       "      <td>624919.0</td>\n",
       "      <td>2155.0</td>\n",
       "      <td>1365135.0</td>\n",
       "    </tr>\n",
       "  </tbody>\n",
       "</table>\n",
       "<p>2188 rows × 3 columns</p>\n",
       "</div>"
      ],
      "text/plain": [
       "            ShortVolume  ShortExemptVolume  TotalVolume\n",
       "Date                                                   \n",
       "2014-04-03      88639.0                0.0     220457.0\n",
       "2014-04-04     100488.0                0.0     266648.0\n",
       "2014-04-07      83192.0                0.0     175611.0\n",
       "2014-04-08      65126.0                0.0     209328.0\n",
       "2014-04-09      50757.0                0.0     156089.0\n",
       "...                 ...                ...          ...\n",
       "2022-12-12    1054371.0             7751.0    1547158.0\n",
       "2022-12-13     315726.0            10978.0    1148199.0\n",
       "2022-12-14     240019.0             5607.0     947417.0\n",
       "2022-12-15    2788514.0             3481.0    3299666.0\n",
       "2022-12-16     624919.0             2155.0    1365135.0\n",
       "\n",
       "[2188 rows x 3 columns]"
      ]
     },
     "execution_count": 6,
     "metadata": {},
     "output_type": "execute_result"
    }
   ],
   "source": [
    "df\n"
   ]
  },
  {
   "cell_type": "code",
   "execution_count": null,
   "metadata": {},
   "outputs": [],
   "source": []
  }
 ],
 "metadata": {
  "kernelspec": {
   "display_name": "Python 3",
   "language": "python",
   "name": "python3"
  },
  "language_info": {
   "codemirror_mode": {
    "name": "ipython",
    "version": 3
   },
   "file_extension": ".py",
   "mimetype": "text/x-python",
   "name": "python",
   "nbconvert_exporter": "python",
   "pygments_lexer": "ipython3",
   "version": "3.10.7"
  },
  "orig_nbformat": 4,
  "vscode": {
   "interpreter": {
    "hash": "3a00e68b57149134ce2b73879182c8cdd95184339958c7ea15c51bb9d3595f11"
   }
  }
 },
 "nbformat": 4,
 "nbformat_minor": 2
}
