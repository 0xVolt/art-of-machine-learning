{
 "cells": [
  {
   "attachments": {},
   "cell_type": "markdown",
   "metadata": {},
   "source": [
    "# Simple Linear Regression\n",
    "\n",
    "Here is a simple example of regression to get started.\n",
    "\n",
    "The entire idea of regression is to take continuous data and to find a best-fit line to that data. This is contrasted to classification where groups of data points are grouped into classes. Here, each data point is treated as it's own and we try to work with (model) the data as a whole. To create a model of our data with simple linear regression, we use a straight line. In supervised learning, we exclusively deal with features and labels to train and test our models.\n",
    "\n",
    "This entire algorithm is based off the equation for a straight line, $y = mx + b$. The whole time during regression is to figure out the right values for $m$ and $b$.\n",
    "\n",
    "You'll see regression pop up in stock price analysis primarily. This works ideally since all the features of a stock are continuous. In this example, we're building a model for simple linear regression to work on stock data.\n",
    "\n",
    "---\n"
   ]
  },
  {
   "attachments": {},
   "cell_type": "markdown",
   "metadata": {},
   "source": [
    "## Import libraries\n",
    "\n",
    "### Why Quandl?\n",
    "\n",
    "Quandl is a premier publisher of alternative data for institutional investors. A dedicated team of data scientists, quants and engineers combine uncompromising curation, high quality standards and experienced data science application to provide some of the most powerful data available today. Quandl also publishes free data, scraped from the web and delivered via Nasdaq Data Link’s industry-leading data delivery platform. For more information about Quandl, see [this page](data.nasdaq.com/publishers/qdl).\n"
   ]
  },
  {
   "cell_type": "code",
   "execution_count": 2,
   "metadata": {},
   "outputs": [],
   "source": [
    "import pandas as pd\n",
    "import quandl\n"
   ]
  },
  {
   "attachments": {},
   "cell_type": "markdown",
   "metadata": {},
   "source": [
    "Each dataset on the Nasdaq data link site has it's own code that allows you to access the dataset using the Quandl API. You could also copy the entire line of code required to import the dataset from it's page. Storing the downloaded dataset into a dataframe with Pandas.\n"
   ]
  },
  {
   "cell_type": "code",
   "execution_count": 3,
   "metadata": {},
   "outputs": [],
   "source": [
    "df = quandl.get(\"FINRA/FNYX_GOOGL\")\n"
   ]
  },
  {
   "attachments": {},
   "cell_type": "markdown",
   "metadata": {},
   "source": [
    "Print out the dataframe.\n"
   ]
  },
  {
   "cell_type": "code",
   "execution_count": 4,
   "metadata": {},
   "outputs": [
    {
     "data": {
      "text/html": [
       "<div>\n",
       "<style scoped>\n",
       "    .dataframe tbody tr th:only-of-type {\n",
       "        vertical-align: middle;\n",
       "    }\n",
       "\n",
       "    .dataframe tbody tr th {\n",
       "        vertical-align: top;\n",
       "    }\n",
       "\n",
       "    .dataframe thead th {\n",
       "        text-align: right;\n",
       "    }\n",
       "</style>\n",
       "<table border=\"1\" class=\"dataframe\">\n",
       "  <thead>\n",
       "    <tr style=\"text-align: right;\">\n",
       "      <th></th>\n",
       "      <th>ShortVolume</th>\n",
       "      <th>ShortExemptVolume</th>\n",
       "      <th>TotalVolume</th>\n",
       "    </tr>\n",
       "    <tr>\n",
       "      <th>Date</th>\n",
       "      <th></th>\n",
       "      <th></th>\n",
       "      <th></th>\n",
       "    </tr>\n",
       "  </thead>\n",
       "  <tbody>\n",
       "    <tr>\n",
       "      <th>2014-04-03</th>\n",
       "      <td>88639.0</td>\n",
       "      <td>0.0</td>\n",
       "      <td>220457.0</td>\n",
       "    </tr>\n",
       "    <tr>\n",
       "      <th>2014-04-04</th>\n",
       "      <td>100488.0</td>\n",
       "      <td>0.0</td>\n",
       "      <td>266648.0</td>\n",
       "    </tr>\n",
       "    <tr>\n",
       "      <th>2014-04-07</th>\n",
       "      <td>83192.0</td>\n",
       "      <td>0.0</td>\n",
       "      <td>175611.0</td>\n",
       "    </tr>\n",
       "    <tr>\n",
       "      <th>2014-04-08</th>\n",
       "      <td>65126.0</td>\n",
       "      <td>0.0</td>\n",
       "      <td>209328.0</td>\n",
       "    </tr>\n",
       "    <tr>\n",
       "      <th>2014-04-09</th>\n",
       "      <td>50757.0</td>\n",
       "      <td>0.0</td>\n",
       "      <td>156089.0</td>\n",
       "    </tr>\n",
       "    <tr>\n",
       "      <th>...</th>\n",
       "      <td>...</td>\n",
       "      <td>...</td>\n",
       "      <td>...</td>\n",
       "    </tr>\n",
       "    <tr>\n",
       "      <th>2022-12-19</th>\n",
       "      <td>387602.0</td>\n",
       "      <td>2501.0</td>\n",
       "      <td>959419.0</td>\n",
       "    </tr>\n",
       "    <tr>\n",
       "      <th>2022-12-20</th>\n",
       "      <td>184510.0</td>\n",
       "      <td>11508.0</td>\n",
       "      <td>731435.0</td>\n",
       "    </tr>\n",
       "    <tr>\n",
       "      <th>2022-12-21</th>\n",
       "      <td>282597.0</td>\n",
       "      <td>4132.0</td>\n",
       "      <td>768568.0</td>\n",
       "    </tr>\n",
       "    <tr>\n",
       "      <th>2022-12-22</th>\n",
       "      <td>306001.0</td>\n",
       "      <td>7124.0</td>\n",
       "      <td>1055934.0</td>\n",
       "    </tr>\n",
       "    <tr>\n",
       "      <th>2022-12-23</th>\n",
       "      <td>759236.0</td>\n",
       "      <td>7882.0</td>\n",
       "      <td>1560812.0</td>\n",
       "    </tr>\n",
       "  </tbody>\n",
       "</table>\n",
       "<p>2193 rows × 3 columns</p>\n",
       "</div>"
      ],
      "text/plain": [
       "            ShortVolume  ShortExemptVolume  TotalVolume\n",
       "Date                                                   \n",
       "2014-04-03      88639.0                0.0     220457.0\n",
       "2014-04-04     100488.0                0.0     266648.0\n",
       "2014-04-07      83192.0                0.0     175611.0\n",
       "2014-04-08      65126.0                0.0     209328.0\n",
       "2014-04-09      50757.0                0.0     156089.0\n",
       "...                 ...                ...          ...\n",
       "2022-12-19     387602.0             2501.0     959419.0\n",
       "2022-12-20     184510.0            11508.0     731435.0\n",
       "2022-12-21     282597.0             4132.0     768568.0\n",
       "2022-12-22     306001.0             7124.0    1055934.0\n",
       "2022-12-23     759236.0             7882.0    1560812.0\n",
       "\n",
       "[2193 rows x 3 columns]"
      ]
     },
     "execution_count": 4,
     "metadata": {},
     "output_type": "execute_result"
    }
   ],
   "source": [
    "df\n"
   ]
  },
  {
   "attachments": {},
   "cell_type": "markdown",
   "metadata": {},
   "source": [
    "Printing out dataframe info."
   ]
  },
  {
   "cell_type": "code",
   "execution_count": 5,
   "metadata": {},
   "outputs": [
    {
     "name": "stdout",
     "output_type": "stream",
     "text": [
      "<class 'pandas.core.frame.DataFrame'>\n",
      "DatetimeIndex: 2193 entries, 2014-04-03 to 2022-12-23\n",
      "Data columns (total 3 columns):\n",
      " #   Column             Non-Null Count  Dtype  \n",
      "---  ------             --------------  -----  \n",
      " 0   ShortVolume        2193 non-null   float64\n",
      " 1   ShortExemptVolume  2193 non-null   float64\n",
      " 2   TotalVolume        2193 non-null   float64\n",
      "dtypes: float64(3)\n",
      "memory usage: 68.5 KB\n"
     ]
    }
   ],
   "source": [
    "df.info()\n"
   ]
  }
 ],
 "metadata": {
  "kernelspec": {
   "display_name": "Python 3",
   "language": "python",
   "name": "python3"
  },
  "language_info": {
   "codemirror_mode": {
    "name": "ipython",
    "version": 3
   },
   "file_extension": ".py",
   "mimetype": "text/x-python",
   "name": "python",
   "nbconvert_exporter": "python",
   "pygments_lexer": "ipython3",
   "version": "3.10.6 (main, Nov 14 2022, 16:10:14) [GCC 11.3.0]"
  },
  "orig_nbformat": 4,
  "vscode": {
   "interpreter": {
    "hash": "916dbcbb3f70747c44a77c7bcd40155683ae19c65e1c03b4aa3499c5328201f1"
   }
  }
 },
 "nbformat": 4,
 "nbformat_minor": 2
}
